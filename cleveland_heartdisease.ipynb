{
 "cells": [
  {
   "cell_type": "code",
   "execution_count": 46,
   "id": "15eb80f4",
   "metadata": {},
   "outputs": [
    {
     "name": "stdout",
     "output_type": "stream",
     "text": [
      "     0    1    2      3      4   ...   9    10   11   12  13\n",
      "0  63.0  1.0  1.0  145.0  233.0  ...  2.3  3.0  0.0  6.0   0\n",
      "1  67.0  1.0  4.0  160.0  286.0  ...  1.5  2.0  3.0  3.0   2\n",
      "2  67.0  1.0  4.0  120.0  229.0  ...  2.6  2.0  2.0  7.0   1\n",
      "3  37.0  1.0  3.0  130.0  250.0  ...  3.5  3.0  0.0  3.0   0\n",
      "4  41.0  0.0  2.0  130.0  204.0  ...  1.4  1.0  0.0  3.0   0\n",
      "\n",
      "[5 rows x 14 columns]\n"
     ]
    }
   ],
   "source": [
    "import pandas as pd\n",
    "import numpy as np\n",
    "\n",
    "df = pd.read_csv('processed.cleveland.data', header=None)\n",
    "print(df.head())\n"
   ]
  },
  {
   "cell_type": "code",
   "execution_count": 47,
   "id": "f90ad345",
   "metadata": {},
   "outputs": [],
   "source": [
    "columns = ['age', 'sex', 'cp', 'trestbps', 'chol', 'fbs', 'restecg','thalach', 'exang', 'oldpeak', 'slope', 'ca', 'thal', 'target']"
   ]
  },
  {
   "cell_type": "code",
   "execution_count": 48,
   "id": "f2f075af",
   "metadata": {},
   "outputs": [
    {
     "name": "stdout",
     "output_type": "stream",
     "text": [
      "    age  sex   cp  trestbps   chol  ...  oldpeak  slope   ca  thal  target\n",
      "0  63.0  1.0  1.0     145.0  233.0  ...      2.3    3.0  0.0   6.0       0\n",
      "1  67.0  1.0  4.0     160.0  286.0  ...      1.5    2.0  3.0   3.0       2\n",
      "2  67.0  1.0  4.0     120.0  229.0  ...      2.6    2.0  2.0   7.0       1\n",
      "3  37.0  1.0  3.0     130.0  250.0  ...      3.5    3.0  0.0   3.0       0\n",
      "4  41.0  0.0  2.0     130.0  204.0  ...      1.4    1.0  0.0   3.0       0\n",
      "\n",
      "[5 rows x 14 columns]\n",
      "updated binary target values are as follows-> \n",
      "    age  sex   cp  trestbps   chol  ...  oldpeak  slope   ca  thal  target\n",
      "0  63.0  1.0  1.0     145.0  233.0  ...      2.3    3.0  0.0   6.0       1\n",
      "1  67.0  1.0  4.0     160.0  286.0  ...      1.5    2.0  3.0   3.0       0\n",
      "2  67.0  1.0  4.0     120.0  229.0  ...      2.6    2.0  2.0   7.0       0\n",
      "3  37.0  1.0  3.0     130.0  250.0  ...      3.5    3.0  0.0   3.0       1\n",
      "4  41.0  0.0  2.0     130.0  204.0  ...      1.4    1.0  0.0   3.0       1\n",
      "\n",
      "[5 rows x 14 columns]\n"
     ]
    }
   ],
   "source": [
    "data = pd.read_csv('processed.cleveland.data', names=columns, na_values='?')\n",
    "data = data.dropna()\n",
    "print(data.head())\n",
    "data['target'] = data['target'].astype(int)\n",
    "\n",
    "for i in data.index:\n",
    "    if data.loc[i, 'target'] == 0:\n",
    "        data.loc[i, 'target'] = 1\n",
    "    else:\n",
    "        data.loc[i, 'target'] = 0\n",
    "        \n",
    "print('updated binary target values are as follows-> ')\n",
    "print(data.head())"
   ]
  },
  {
   "cell_type": "code",
   "execution_count": 49,
   "id": "70b3fe28",
   "metadata": {},
   "outputs": [],
   "source": [
    "x=data.drop(['target'], axis=1)\n",
    "y=data['target']"
   ]
  },
  {
   "cell_type": "code",
   "execution_count": 50,
   "id": "f4c0d1dd",
   "metadata": {},
   "outputs": [
    {
     "name": "stdout",
     "output_type": "stream",
     "text": [
      "x_train shape: (237, 13)\n",
      "x_test shape: (60, 13)\n",
      "y_train shape: (237,)\n",
      "y_test shape: (60,)\n"
     ]
    }
   ],
   "source": [
    "from sklearn.model_selection import train_test_split\n",
    "x = x - x.mean()\n",
    "x = x / x.std()\n",
    "\n",
    "x_train, x_test, y_train, y_test = train_test_split(x, y, test_size=0.2, random_state=42)\n",
    "print(\"x_train shape:\", x_train.shape)\n",
    "print(\"x_test shape:\", x_test.shape)\n",
    "print(\"y_train shape:\", y_train.shape)\n",
    "print(\"y_test shape:\", y_test.shape)"
   ]
  },
  {
   "cell_type": "code",
   "execution_count": 61,
   "id": "e942821a",
   "metadata": {},
   "outputs": [],
   "source": [
    "def sigmoid(z):\n",
    "    return 1 / (1 + np.exp(-z))\n",
    "\n",
    "def binary_cross_entropy(y_true, y_pred):\n",
    "    return -np.mean(y_true * np.log(y_pred) + (1 - y_true) * np.log(1 - y_pred))\n",
    "\n",
    "losses = []\n",
    "def gradient_descent(x, y, learning_rate=0.01, epochs=1000):\n",
    "    m, n = x.shape\n",
    "    weights = np.zeros(n)\n",
    "    bias = 0\n",
    "\n",
    "    for epoch in range(epochs):\n",
    "        linear_model = np.dot(x, weights) + bias\n",
    "        y_pred = sigmoid(linear_model)\n",
    "\n",
    "        dw = (1 / m) * np.dot(x.T, (y_pred - y))\n",
    "        db = (1 / m) * np.sum(y_pred - y)\n",
    "\n",
    "        weights -= learning_rate * dw\n",
    "        bias -= learning_rate * db\n",
    "\n",
    "        if epoch % 100 == 0:\n",
    "            loss = binary_cross_entropy(y, y_pred)\n",
    "            losses.append(loss)\n",
    "            print(f'Epoch {epoch}, Loss: {loss}')\n",
    "            \n",
    "    return weights, bias\n"
   ]
  },
  {
   "cell_type": "code",
   "execution_count": 62,
   "id": "4c3c4c46",
   "metadata": {},
   "outputs": [],
   "source": [
    "def predict(x, weights, bias):\n",
    "    linear_model = np.dot(x, weights) + bias\n",
    "    y_pred = sigmoid(linear_model)\n",
    "    return np.round(y_pred)"
   ]
  },
  {
   "cell_type": "code",
   "execution_count": 63,
   "id": "d52dd609",
   "metadata": {},
   "outputs": [
    {
     "name": "stdout",
     "output_type": "stream",
     "text": [
      "Epoch 0, Loss: 0.6931471805599453\n",
      "Epoch 100, Loss: 0.5055867679820705\n",
      "Epoch 200, Loss: 0.4444901150901165\n",
      "Epoch 300, Loss: 0.4167219962971566\n",
      "Epoch 400, Loss: 0.4013346370606467\n",
      "Epoch 500, Loss: 0.39169775683341235\n",
      "Epoch 600, Loss: 0.38514529568033473\n",
      "Epoch 700, Loss: 0.38042088767958043\n",
      "Epoch 800, Loss: 0.37686261123300885\n",
      "Epoch 900, Loss: 0.37409159048062984\n",
      "Train Accuracy: 0.8312236286919831\n",
      "Test Accuracy: 0.9\n",
      "Confusion Matrix:\n",
      " [[22  2]\n",
      " [ 4 32]]\n",
      "\n",
      "Classification Report:\n",
      "               precision    recall  f1-score   support\n",
      "\n",
      "           0       0.85      0.92      0.88        24\n",
      "           1       0.94      0.89      0.91        36\n",
      "\n",
      "    accuracy                           0.90        60\n",
      "   macro avg       0.89      0.90      0.90        60\n",
      "weighted avg       0.90      0.90      0.90        60\n",
      "\n"
     ]
    }
   ],
   "source": [
    "weights, bias = gradient_descent(x_train.values, y_train.values, learning_rate=0.01, epochs=1000)\n",
    "\n",
    "y_pred_train = (predict(x_train.values, weights, bias) >= 0.5).astype(int)\n",
    "y_pred_test = (predict(x_test.values, weights, bias) >= 0.5).astype(int)\n",
    "\n",
    "from sklearn.metrics import accuracy_score, confusion_matrix, classification_report\n",
    "\n",
    "print(\"Train Accuracy:\", accuracy_score(y_train, y_pred_train))\n",
    "print(\"Test Accuracy:\", accuracy_score(y_test, y_pred_test))\n",
    "print(\"Confusion Matrix:\\n\", confusion_matrix(y_test, y_pred_test))\n",
    "print(\"\\nClassification Report:\\n\", classification_report(y_test, y_pred_test))\n"
   ]
  },
  {
   "cell_type": "code",
   "execution_count": 64,
   "id": "b88ad6c8",
   "metadata": {},
   "outputs": [
    {
     "data": {
      "image/png": "[encoded data removed]",
      "text/plain": [
       "<Figure size 800x500 with 1 Axes>"
      ]
     },
     "metadata": {},
     "output_type": "display_data"
    }
   ],
   "source": [
    "plt.figure(figsize=(8, 5))\n",
    "plt.plot(losses, color='blue')\n",
    "plt.title('Training Loss over Epochs')\n",
    "plt.xlabel('Epoch (per 100)')\n",
    "plt.ylabel('Loss')\n",
    "plt.grid(True)\n",
    "plt.tight_layout()\n",
    "plt.show()"
   ]
  }
 ],
 "metadata": {
  "kernelspec": {
   "display_name": "ABC",
   "language": "python",
   "name": "python3"
  },
  "language_info": {
   "codemirror_mode": {
    "name": "ipython",
    "version": 3
   },
   "file_extension": ".py",
   "mimetype": "text/x-python",
   "name": "python",
   "nbconvert_exporter": "python",
   "pygments_lexer": "ipython3",
   "version": "3.10.14"
  }
 },
 "nbformat": 4,
 "nbformat_minor": 5
}
